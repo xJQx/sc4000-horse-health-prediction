{
 "cells": [
  {
   "cell_type": "markdown",
   "metadata": {},
   "source": [
    "# Code for testing whether over sampling minority class with SMOTE helps"
   ]
  },
  {
   "cell_type": "markdown",
   "metadata": {},
   "source": [
    "## Auth"
   ]
  },
  {
   "cell_type": "code",
   "execution_count": 1,
   "metadata": {},
   "outputs": [],
   "source": [
    "from dotenv import load_dotenv\n",
    "\n",
    "load_dotenv()\n",
    "\n",
    "from kaggle.api.kaggle_api_extended import KaggleApi\n",
    "\n",
    "api = KaggleApi()\n",
    "api.authenticate()"
   ]
  },
  {
   "cell_type": "markdown",
   "metadata": {},
   "source": [
    "## Download Data"
   ]
  },
  {
   "cell_type": "code",
   "execution_count": null,
   "metadata": {},
   "outputs": [],
   "source": [
    "!kaggle competitions download -c playground-series-s3e22\n",
    "!unzip -o playground-series-s3e22.zip\n",
    "!kaggle datasets download yasserh/horse-survival-dataset\n",
    "!unzip -o horse-survival-dataset.zip\n",
    "!rm -rf playground-series-s3e22.zip horse-survival-dataset.zip"
   ]
  },
  {
   "cell_type": "markdown",
   "metadata": {},
   "source": [
    "## Globals"
   ]
  },
  {
   "cell_type": "code",
   "execution_count": 89,
   "metadata": {},
   "outputs": [],
   "source": [
    "_TRAIN_FILE = \"train.csv\"\n",
    "_TEST_FILE = \"test.csv\"\n",
    "_ORIGINAL_FILE = \"horse.csv\"\n",
    "_SAMPLE_SUBMISSION_FILE = \"sample_submission.csv\"\n",
    "\n",
    "_TOP_FEATURES = [\n",
    "    \"rectal_temp\",\n",
    "    \"pulse\",\n",
    "    \"respiratory_rate\",\n",
    "    \"nasogastric_reflux_ph\",\n",
    "    \"packed_cell_volume\",\n",
    "    \"total_protein\",\n",
    "    \"abdomo_protein\",\n",
    "    \"lesion_1\",\n",
    "    \"surgery_no\",\n",
    "    \"surgery_yes\",\n",
    "    \"temp_of_extremities_cool\",\n",
    "    \"peripheral_pulse_reduced\",\n",
    "    \"capillary_refill_time_more_3_sec\",\n",
    "    \"pain_depressed\",\n",
    "    \"pain_mild_pain\",\n",
    "    \"pain_severe_pain\",\n",
    "    \"peristalsis_absent\",\n",
    "    \"abdominal_distention_moderate\",\n",
    "    \"nasogastric_reflux_more_1_liter\",\n",
    "    \"rectal_exam_feces_absent\",\n",
    "    \"abdomen_distend_large\",\n",
    "    \"abdomo_appearance_serosanguious\",\n",
    "    \"surgical_lesion_no\",\n",
    "    \"surgical_lesion_yes\",\n",
    "    \"cp_data_no\",\n",
    "    \"mucous_membrane_normal_pink\",\n",
    "    \"abdomo_appearance_cloudy\",\n",
    "    \"capillary_refill_time_less_3_sec\",\n",
    "    \"peripheral_pulse_normal\",\n",
    "    \"nasogastric_tube_slight\",\n",
    "    \"mucous_membrane_pale_pink\",\n",
    "    \"pain_extreme_pain\",\n",
    "    \"mucous_membrane_pale_cyanotic\",\n",
    "    \"abdomen_distend_small\",\n",
    "    \"cp_data_yes\",\n",
    "    \"abdominal_distention_slight\",\n",
    "    \"temp_of_extremities_normal\",\n",
    "    \"mucous_membrane_bright_red\",\n",
    "    \"abdominal_distention_severe\",\n",
    "    \"abdomo_appearance_clear\",\n",
    "    \"rectal_exam_feces_decreased\",\n",
    "    \"peristalsis_hypomotile\",\n",
    "    \"age_young\",\n",
    "    \"nasogastric_reflux_less_1_liter\",\n",
    "    \"rectal_exam_feces_normal\",\n",
    "    \"temp_of_extremities_cold\",\n",
    "    \"abdomen_firm\",\n",
    "    \"pain_alert\",\n",
    "    \"nasogastric_tube_significant\",\n",
    "    \"mucous_membrane_dark_cyanotic\",\n",
    "    \"peristalsis_normal\",\n",
    "    \"abdomen_normal\",\n",
    "    \"mucous_membrane_bright_pink\",\n",
    "    \"age_adult\",\n",
    "    \"peripheral_pulse_absent\",\n",
    "    \"rectal_exam_feces_increased\",\n",
    "]\n",
    "\n",
    "_TARGET = \"outcome\"\n",
    "\n",
    "_SEED = 42"
   ]
  },
  {
   "cell_type": "markdown",
   "metadata": {},
   "source": [
    "## Data Preprocessing"
   ]
  },
  {
   "cell_type": "code",
   "execution_count": 95,
   "metadata": {},
   "outputs": [],
   "source": [
    "import pandas as pd\n",
    "from imblearn.over_sampling import SMOTE\n",
    "\n",
    "\n",
    "def preprocess_data(df: pd.DataFrame, impute_function, columns):\n",
    "    cols_to_drop = [\"outcome\", \"id\"]\n",
    "\n",
    "    if not impute_function:\n",
    "        df = df.dropna()\n",
    "\n",
    "    X = df.drop(columns=cols_to_drop)\n",
    "    y = df[\"outcome\"]\n",
    "\n",
    "    # One hot encoding\n",
    "    X = pd.get_dummies(X, drop_first=False)\n",
    "\n",
    "    X = X[_TOP_FEATURES]\n",
    "\n",
    "    if impute_function:\n",
    "        X = impute_function(X, columns=columns)\n",
    "\n",
    "    smote = SMOTE(random_state=_SEED)\n",
    "    X, y = smote.fit_resample(X, y)\n",
    "\n",
    "    return X, y"
   ]
  },
  {
   "cell_type": "markdown",
   "metadata": {},
   "source": [
    "## Experiment"
   ]
  },
  {
   "cell_type": "code",
   "execution_count": 92,
   "metadata": {},
   "outputs": [],
   "source": [
    "import pandas as pd\n",
    "\n",
    "\n",
    "train_df = pd.read_csv(_TRAIN_FILE)\n",
    "test_df = pd.read_csv(_TEST_FILE)\n",
    "original_df = pd.read_csv(_ORIGINAL_FILE)\n",
    "\n",
    "train_df = pd.concat((train_df, original_df), axis=0)"
   ]
  },
  {
   "cell_type": "code",
   "execution_count": 45,
   "metadata": {},
   "outputs": [],
   "source": [
    "from sklearn.ensemble import RandomForestClassifier\n",
    "from sklearn.model_selection import KFold, cross_val_score\n",
    "\n",
    "\n",
    "def run(df: pd.DataFrame, experiment_name: str, impute_function, columns=None):\n",
    "    print(f\"========== {experiment_name} ==========\")\n",
    "\n",
    "    X, y = preprocess_data(df, impute_function=impute_function, columns=columns)\n",
    "\n",
    "    forest = RandomForestClassifier(random_state=_SEED)\n",
    "\n",
    "    k_folds = KFold(n_splits=20)\n",
    "\n",
    "    scores = cross_val_score(forest, X, y, cv=k_folds, scoring=\"f1_micro\")\n",
    "\n",
    "    print(\"F1 Score (Micro-Averaged):\", scores.mean())\n",
    "\n",
    "    return scores.mean()"
   ]
  },
  {
   "cell_type": "code",
   "execution_count": 32,
   "metadata": {},
   "outputs": [],
   "source": [
    "from sklearn.impute import SimpleImputer, KNNImputer\n",
    "import pandas as pd\n",
    "\n",
    "\n",
    "def impute(\n",
    "    df: pd.DataFrame,\n",
    "    strategy: str = \"mean\",\n",
    "    fill_value=None,\n",
    "    n_neighbors=5,\n",
    "    columns=None,\n",
    ") -> pd.DataFrame:\n",
    "    \"\"\"\n",
    "    Generalized function to handle various imputation strategies.\n",
    "\n",
    "    Parameters:\n",
    "        df (pd.DataFrame): Input DataFrame.\n",
    "        strategy (str): Imputation strategy - \"mean\", \"median\", \"most_frequent\", \"constant\", or \"knn\".\n",
    "        fill_value: Value to use for constant imputation (if strategy=\"constant\").\n",
    "        n_neighbors (int): Number of neighbors to use for KNN Imputation (if strategy=\"knn\").\n",
    "        columns (list, optional): Specific columns to impute. If None, applies to all columns.\n",
    "\n",
    "    Returns:\n",
    "        pd.DataFrame: DataFrame with imputed values.\n",
    "    \"\"\"\n",
    "    if strategy == \"knn\":\n",
    "        imputer = KNNImputer(n_neighbors=n_neighbors)\n",
    "    elif strategy == \"constant\":\n",
    "        imputer = SimpleImputer(strategy=\"constant\", fill_value=fill_value)\n",
    "    else:\n",
    "        imputer = SimpleImputer(strategy=strategy)\n",
    "\n",
    "    # Select columns for imputation\n",
    "    target_columns = columns or df.columns\n",
    "    df[target_columns] = pd.DataFrame(\n",
    "        imputer.fit_transform(df[target_columns]),\n",
    "        columns=target_columns,\n",
    "        index=df.index,\n",
    "    )\n",
    "    return df\n",
    "\n",
    "\n",
    "# Specific functions for convenience\n",
    "def mean_imputation(df: pd.DataFrame, columns=None) -> pd.DataFrame:\n",
    "    return impute(df, strategy=\"mean\", columns=columns)\n",
    "\n",
    "\n",
    "def median_imputation(df: pd.DataFrame, columns=None) -> pd.DataFrame:\n",
    "    return impute(df, strategy=\"median\", columns=columns)\n",
    "\n",
    "\n",
    "def most_frequent_imputation(df: pd.DataFrame, columns=None) -> pd.DataFrame:\n",
    "    return impute(df, strategy=\"most_frequent\", columns=columns)\n",
    "\n",
    "\n",
    "def constant_imputation(df: pd.DataFrame, fill_value=0, columns=None) -> pd.DataFrame:\n",
    "    return impute(df, strategy=\"constant\", fill_value=fill_value, columns=columns)\n",
    "\n",
    "\n",
    "def knn_imputation(df: pd.DataFrame, n_neighbors=5, columns=None) -> pd.DataFrame:\n",
    "    return impute(df, strategy=\"knn\", n_neighbors=n_neighbors, columns=columns)"
   ]
  },
  {
   "cell_type": "code",
   "execution_count": 103,
   "metadata": {},
   "outputs": [],
   "source": [
    "results = []"
   ]
  },
  {
   "cell_type": "code",
   "execution_count": 104,
   "metadata": {},
   "outputs": [
    {
     "name": "stdout",
     "output_type": "stream",
     "text": [
      "========== No Imputation ==========\n",
      "F1 Score (Micro-Averaged): 0.8090895341802783\n"
     ]
    }
   ],
   "source": [
    "score = run(train_df, \"No Imputation\", impute_function=None)\n",
    "\n",
    "results.append({\"method\": \"No Imputation\", \"f1 score (micro-averaged)\": score})"
   ]
  },
  {
   "cell_type": "code",
   "execution_count": 105,
   "metadata": {},
   "outputs": [
    {
     "name": "stdout",
     "output_type": "stream",
     "text": [
      "========== KNN Imputation ==========\n",
      "F1 Score (Micro-Averaged): 0.8127251896333755\n"
     ]
    }
   ],
   "source": [
    "score = run(train_df, \"KNN Imputation\", impute_function=knn_imputation)\n",
    "\n",
    "results.append({\"method\": \"KNN Imputation\", \"f1 score (micro-averaged)\": score})"
   ]
  },
  {
   "cell_type": "code",
   "execution_count": 106,
   "metadata": {},
   "outputs": [
    {
     "name": "stdout",
     "output_type": "stream",
     "text": [
      "========== Most Frequent Inputation ==========\n",
      "F1 Score (Micro-Averaged): 0.8140605246523389\n"
     ]
    }
   ],
   "source": [
    "score = run(\n",
    "    train_df, \"Most Frequent Inputation\", impute_function=most_frequent_imputation\n",
    ")\n",
    "\n",
    "results.append(\n",
    "    {\"method\": \"Most Frequent Imputation\", \"f1 score (micro-averaged)\": score}\n",
    ")"
   ]
  },
  {
   "cell_type": "code",
   "execution_count": 107,
   "metadata": {},
   "outputs": [
    {
     "name": "stdout",
     "output_type": "stream",
     "text": [
      "========== Mean Imputation ==========\n",
      "F1 Score (Micro-Averaged): 0.8184932048040455\n"
     ]
    }
   ],
   "source": [
    "score = run(train_df, \"Mean Imputation\", impute_function=mean_imputation)\n",
    "\n",
    "results.append({\"method\": \"Mean Imputation\", \"f1 score (micro-averaged)\": score})"
   ]
  },
  {
   "cell_type": "code",
   "execution_count": 108,
   "metadata": {},
   "outputs": [
    {
     "name": "stdout",
     "output_type": "stream",
     "text": [
      "========== Median Imputation ==========\n",
      "F1 Score (Micro-Averaged): 0.8136061946902654\n"
     ]
    }
   ],
   "source": [
    "score = run(train_df, \"Median Imputation\", impute_function=median_imputation)\n",
    "\n",
    "results.append({\"method\": \"Median Imputation\", \"f1 score (micro-averaged)\": score})"
   ]
  },
  {
   "cell_type": "code",
   "execution_count": 109,
   "metadata": {},
   "outputs": [
    {
     "name": "stdout",
     "output_type": "stream",
     "text": [
      "========== Constant Imputation ==========\n",
      "F1 Score (Micro-Averaged): 0.8145148546144123\n"
     ]
    }
   ],
   "source": [
    "score = run(train_df, \"Constant Imputation\", impute_function=constant_imputation)\n",
    "\n",
    "results.append({\"method\": \"Constant Imputation\", \"f1 score (micro-averaged)\": score})"
   ]
  },
  {
   "cell_type": "code",
   "execution_count": 110,
   "metadata": {},
   "outputs": [
    {
     "data": {
      "text/html": [
       "<div>\n",
       "<style scoped>\n",
       "    .dataframe tbody tr th:only-of-type {\n",
       "        vertical-align: middle;\n",
       "    }\n",
       "\n",
       "    .dataframe tbody tr th {\n",
       "        vertical-align: top;\n",
       "    }\n",
       "\n",
       "    .dataframe thead th {\n",
       "        text-align: right;\n",
       "    }\n",
       "</style>\n",
       "<table border=\"1\" class=\"dataframe\">\n",
       "  <thead>\n",
       "    <tr style=\"text-align: right;\">\n",
       "      <th></th>\n",
       "      <th>method</th>\n",
       "      <th>f1 score (micro-averaged)</th>\n",
       "    </tr>\n",
       "  </thead>\n",
       "  <tbody>\n",
       "    <tr>\n",
       "      <th>3</th>\n",
       "      <td>Mean Imputation</td>\n",
       "      <td>0.818493</td>\n",
       "    </tr>\n",
       "    <tr>\n",
       "      <th>5</th>\n",
       "      <td>Constant Imputation</td>\n",
       "      <td>0.814515</td>\n",
       "    </tr>\n",
       "    <tr>\n",
       "      <th>2</th>\n",
       "      <td>Most Frequent Imputation</td>\n",
       "      <td>0.814061</td>\n",
       "    </tr>\n",
       "    <tr>\n",
       "      <th>4</th>\n",
       "      <td>Median Imputation</td>\n",
       "      <td>0.813606</td>\n",
       "    </tr>\n",
       "    <tr>\n",
       "      <th>1</th>\n",
       "      <td>KNN Imputation</td>\n",
       "      <td>0.812725</td>\n",
       "    </tr>\n",
       "    <tr>\n",
       "      <th>0</th>\n",
       "      <td>No Imputation</td>\n",
       "      <td>0.809090</td>\n",
       "    </tr>\n",
       "  </tbody>\n",
       "</table>\n",
       "</div>"
      ],
      "text/plain": [
       "                     method  f1 score (micro-averaged)\n",
       "3           Mean Imputation                   0.818493\n",
       "5       Constant Imputation                   0.814515\n",
       "2  Most Frequent Imputation                   0.814061\n",
       "4         Median Imputation                   0.813606\n",
       "1            KNN Imputation                   0.812725\n",
       "0             No Imputation                   0.809090"
      ]
     },
     "execution_count": 110,
     "metadata": {},
     "output_type": "execute_result"
    }
   ],
   "source": [
    "pd.DataFrame(results).sort_values(by=\"f1 score (micro-averaged)\", ascending=False)"
   ]
  },
  {
   "cell_type": "markdown",
   "metadata": {},
   "source": [
    "## KNN Hyperparameter"
   ]
  },
  {
   "cell_type": "code",
   "execution_count": null,
   "metadata": {},
   "outputs": [],
   "source": [
    "knn_results = []\n",
    "\n",
    "\n",
    "for n_neighbors in range(1, 30):\n",
    "    def _knn_imputation(df: pd.DataFrame, columns=None):\n",
    "        return knn_imputation(df, n_neighbors=n_neighbors, columns=columns)\n",
    "\n",
    "    score = run(train_df, f\"KNN Imputation ({n_neighbors} neighbors)\", impute_function=_knn_imputation)\n",
    "\n",
    "    knn_results.append(\n",
    "        {\n",
    "            \"n_neighbors\": n_neighbors,\n",
    "            \"f1 score (micro-averaged)\": score,\n",
    "        }\n",
    "    )"
   ]
  },
  {
   "cell_type": "code",
   "execution_count": 112,
   "metadata": {},
   "outputs": [
    {
     "data": {
      "text/html": [
       "<div>\n",
       "<style scoped>\n",
       "    .dataframe tbody tr th:only-of-type {\n",
       "        vertical-align: middle;\n",
       "    }\n",
       "\n",
       "    .dataframe tbody tr th {\n",
       "        vertical-align: top;\n",
       "    }\n",
       "\n",
       "    .dataframe thead th {\n",
       "        text-align: right;\n",
       "    }\n",
       "</style>\n",
       "<table border=\"1\" class=\"dataframe\">\n",
       "  <thead>\n",
       "    <tr style=\"text-align: right;\">\n",
       "      <th></th>\n",
       "      <th>n_neighbors</th>\n",
       "      <th>f1 score (micro-averaged)</th>\n",
       "    </tr>\n",
       "  </thead>\n",
       "  <tbody>\n",
       "    <tr>\n",
       "      <th>10</th>\n",
       "      <td>11</td>\n",
       "      <td>0.816265</td>\n",
       "    </tr>\n",
       "    <tr>\n",
       "      <th>13</th>\n",
       "      <td>14</td>\n",
       "      <td>0.815372</td>\n",
       "    </tr>\n",
       "    <tr>\n",
       "      <th>12</th>\n",
       "      <td>13</td>\n",
       "      <td>0.814495</td>\n",
       "    </tr>\n",
       "    <tr>\n",
       "      <th>8</th>\n",
       "      <td>9</td>\n",
       "      <td>0.813176</td>\n",
       "    </tr>\n",
       "    <tr>\n",
       "      <th>16</th>\n",
       "      <td>17</td>\n",
       "      <td>0.813156</td>\n",
       "    </tr>\n",
       "    <tr>\n",
       "      <th>4</th>\n",
       "      <td>5</td>\n",
       "      <td>0.812725</td>\n",
       "    </tr>\n",
       "    <tr>\n",
       "      <th>5</th>\n",
       "      <td>6</td>\n",
       "      <td>0.812713</td>\n",
       "    </tr>\n",
       "    <tr>\n",
       "      <th>7</th>\n",
       "      <td>8</td>\n",
       "      <td>0.812283</td>\n",
       "    </tr>\n",
       "    <tr>\n",
       "      <th>11</th>\n",
       "      <td>12</td>\n",
       "      <td>0.812267</td>\n",
       "    </tr>\n",
       "    <tr>\n",
       "      <th>15</th>\n",
       "      <td>16</td>\n",
       "      <td>0.810959</td>\n",
       "    </tr>\n",
       "    <tr>\n",
       "      <th>6</th>\n",
       "      <td>7</td>\n",
       "      <td>0.810947</td>\n",
       "    </tr>\n",
       "    <tr>\n",
       "      <th>3</th>\n",
       "      <td>4</td>\n",
       "      <td>0.809632</td>\n",
       "    </tr>\n",
       "    <tr>\n",
       "      <th>2</th>\n",
       "      <td>3</td>\n",
       "      <td>0.809166</td>\n",
       "    </tr>\n",
       "    <tr>\n",
       "      <th>9</th>\n",
       "      <td>10</td>\n",
       "      <td>0.808727</td>\n",
       "    </tr>\n",
       "    <tr>\n",
       "      <th>1</th>\n",
       "      <td>2</td>\n",
       "      <td>0.807408</td>\n",
       "    </tr>\n",
       "    <tr>\n",
       "      <th>0</th>\n",
       "      <td>1</td>\n",
       "      <td>0.806503</td>\n",
       "    </tr>\n",
       "    <tr>\n",
       "      <th>14</th>\n",
       "      <td>15</td>\n",
       "      <td>0.805646</td>\n",
       "    </tr>\n",
       "  </tbody>\n",
       "</table>\n",
       "</div>"
      ],
      "text/plain": [
       "    n_neighbors  f1 score (micro-averaged)\n",
       "10           11                   0.816265\n",
       "13           14                   0.815372\n",
       "12           13                   0.814495\n",
       "8             9                   0.813176\n",
       "16           17                   0.813156\n",
       "4             5                   0.812725\n",
       "5             6                   0.812713\n",
       "7             8                   0.812283\n",
       "11           12                   0.812267\n",
       "15           16                   0.810959\n",
       "6             7                   0.810947\n",
       "3             4                   0.809632\n",
       "2             3                   0.809166\n",
       "9            10                   0.808727\n",
       "1             2                   0.807408\n",
       "0             1                   0.806503\n",
       "14           15                   0.805646"
      ]
     },
     "execution_count": 112,
     "metadata": {},
     "output_type": "execute_result"
    }
   ],
   "source": [
    "results_df = pd.DataFrame(knn_results).sort_values(\n",
    "    \"f1 score (micro-averaged)\", ascending=False\n",
    ")\n",
    "results_df"
   ]
  },
  {
   "cell_type": "markdown",
   "metadata": {},
   "source": [
    "## Submit"
   ]
  },
  {
   "cell_type": "code",
   "execution_count": null,
   "metadata": {},
   "outputs": [],
   "source": [
    "import pandas as pd\n",
    "from imblearn.over_sampling import SMOTE\n",
    "\n",
    "df = pd.read_csv(_TRAIN_FILE)\n",
    "test_df = pd.read_csv(_TEST_FILE)\n",
    "submit_df = test_df\n",
    "\n",
    "cols_to_drop = [\"id\"]\n",
    "\n",
    "X = df.drop(columns=cols_to_drop)\n",
    "y = df[\"outcome\"]\n",
    "\n",
    "# One hot encoding\n",
    "X = pd.get_dummies(X, drop_first=False)\n",
    "X = X[_TOP_FEATURES]\n",
    "\n",
    "X = mean_imputation(X)\n",
    "\n",
    "smote = SMOTE(random_state=_SEED)\n",
    "X, y = smote.fit_resample(X, y)\n",
    "\n",
    "forest = RandomForestClassifier(random_state=_SEED)\n",
    "forest.fit(X, y)\n",
    "\n",
    "test_df = test_df.drop(columns=cols_to_drop)\n",
    "test_df = pd.get_dummies(test_df, drop_first=False)\n",
    "test_df = test_df.reindex(columns=X.columns, fill_value=0)\n",
    "test_df = test_df[_TOP_FEATURES]\n",
    "y_pred_submit = forest.predict(test_df)\n",
    "\n",
    "save_df = pd.DataFrame({\"id\": submit_df[\"id\"], \"outcome\": y_pred_submit})\n",
    "save_df.to_csv(\"submission.csv\", index=False, header=True)"
   ]
  },
  {
   "cell_type": "code",
   "execution_count": null,
   "metadata": {},
   "outputs": [
    {
     "name": "stdout",
     "output_type": "stream",
     "text": [
      "100%|██████████████████████████████████████| 9.25k/9.25k [00:00<00:00, 11.7kB/s]\n",
      "Successfully submitted to Predict Health Outcomes of Horses"
     ]
    }
   ],
   "source": [
    "!kaggle competitions submit -c playground-series-s3e22 -f submission.csv -m \"top features + mean_imputation + smote + random forest + original data\""
   ]
  },
  {
   "cell_type": "code",
   "execution_count": null,
   "metadata": {},
   "outputs": [],
   "source": []
  }
 ],
 "metadata": {
  "kernelspec": {
   "display_name": ".venv",
   "language": "python",
   "name": "python3"
  },
  "language_info": {
   "codemirror_mode": {
    "name": "ipython",
    "version": 3
   },
   "file_extension": ".py",
   "mimetype": "text/x-python",
   "name": "python",
   "nbconvert_exporter": "python",
   "pygments_lexer": "ipython3",
   "version": "3.12.4"
  }
 },
 "nbformat": 4,
 "nbformat_minor": 2
}
