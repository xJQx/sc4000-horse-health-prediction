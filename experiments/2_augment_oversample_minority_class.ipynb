{
 "cells": [
  {
   "cell_type": "markdown",
   "metadata": {},
   "source": [
    "# Code for testing whether over sampling minority class with SMOTE helps"
   ]
  },
  {
   "cell_type": "markdown",
   "metadata": {},
   "source": [
    "## Auth"
   ]
  },
  {
   "cell_type": "code",
   "execution_count": 1,
   "metadata": {},
   "outputs": [],
   "source": [
    "from dotenv import load_dotenv\n",
    "\n",
    "load_dotenv()\n",
    "\n",
    "from kaggle.api.kaggle_api_extended import KaggleApi\n",
    "\n",
    "api = KaggleApi()\n",
    "api.authenticate()"
   ]
  },
  {
   "cell_type": "markdown",
   "metadata": {},
   "source": [
    "## Download Data"
   ]
  },
  {
   "cell_type": "code",
   "execution_count": null,
   "metadata": {},
   "outputs": [],
   "source": [
    "!kaggle competitions download -c playground-series-s3e22\n",
    "!unzip -o playground-series-s3e22.zip\n",
    "!kaggle datasets download yasserh/horse-survival-dataset\n",
    "!unzip -o horse-survival-dataset.zip\n",
    "!rm -rf playground-series-s3e22.zip horse-survival-dataset.zip"
   ]
  },
  {
   "cell_type": "markdown",
   "metadata": {},
   "source": [
    "## Globals"
   ]
  },
  {
   "cell_type": "code",
   "execution_count": 2,
   "metadata": {},
   "outputs": [],
   "source": [
    "_TRAIN_FILE = \"train.csv\"\n",
    "_TEST_FILE = \"test.csv\"\n",
    "_ORIGINAL_FILE = \"horse.csv\"\n",
    "_SAMPLE_SUBMISSION_FILE = \"sample_submission.csv\"\n",
    "\n",
    "_SEED = 42"
   ]
  },
  {
   "cell_type": "markdown",
   "metadata": {},
   "source": [
    "## Data Preprocessing"
   ]
  },
  {
   "cell_type": "code",
   "execution_count": 26,
   "metadata": {},
   "outputs": [],
   "source": [
    "import pandas as pd\n",
    "from imblearn.over_sampling import SMOTE\n",
    "\n",
    "\n",
    "def preprocess_data(df: pd.DataFrame, oversample_minority: bool):\n",
    "    cols_to_drop = [\"outcome\", \"id\"]\n",
    "\n",
    "    # Simple handling of NA values: drop rows with missing values\n",
    "    df = df.dropna()\n",
    "\n",
    "    X = df.drop(columns=cols_to_drop)\n",
    "    y = df[\"outcome\"]\n",
    "\n",
    "    # One hot encoding\n",
    "    X = pd.get_dummies(X, drop_first=True)\n",
    "\n",
    "    if oversample_minority:\n",
    "        smote = SMOTE(random_state=_SEED)\n",
    "        X, y = smote.fit_resample(X, y)\n",
    "\n",
    "    return X, y"
   ]
  },
  {
   "cell_type": "markdown",
   "metadata": {},
   "source": [
    "## Experiment"
   ]
  },
  {
   "cell_type": "code",
   "execution_count": 13,
   "metadata": {},
   "outputs": [],
   "source": [
    "import pandas as pd\n",
    "\n",
    "\n",
    "train_df = pd.read_csv(_TRAIN_FILE)\n",
    "test_df = pd.read_csv(_TEST_FILE)\n",
    "original_df = pd.read_csv(_ORIGINAL_FILE)\n",
    "\n",
    "train_df = pd.concat((train_df, original_df), axis=0)"
   ]
  },
  {
   "cell_type": "code",
   "execution_count": 14,
   "metadata": {},
   "outputs": [],
   "source": [
    "from sklearn.ensemble import RandomForestClassifier\n",
    "from sklearn.model_selection import KFold, cross_val_score\n",
    "\n",
    "\n",
    "def run(df: pd.DataFrame, experiment_name: str, oversample_minority: bool):\n",
    "    print(f\"========== {experiment_name} ==========\")\n",
    "\n",
    "    X, y = preprocess_data(df, oversample_minority=oversample_minority)\n",
    "\n",
    "    forest = RandomForestClassifier(random_state=_SEED)\n",
    "\n",
    "    k_folds = KFold(n_splits=20)\n",
    "\n",
    "    scores = cross_val_score(forest, X, y, cv=k_folds, scoring=\"f1_micro\")\n",
    "\n",
    "    print(\"F1 Score (Micro-Averaged):\", scores.mean())"
   ]
  },
  {
   "cell_type": "code",
   "execution_count": 27,
   "metadata": {},
   "outputs": [
    {
     "name": "stdout",
     "output_type": "stream",
     "text": [
      "========== Oversample Minority ==========\n",
      "F1 Score (Micro-Averaged): 0.8065638233514821\n"
     ]
    }
   ],
   "source": [
    "run(train_df, \"Oversample Minority\", oversample_minority=True)"
   ]
  },
  {
   "cell_type": "code",
   "execution_count": 28,
   "metadata": {},
   "outputs": [
    {
     "name": "stdout",
     "output_type": "stream",
     "text": [
      "========== No Oversample Minority ==========\n",
      "F1 Score (Micro-Averaged): 0.7148448043184885\n"
     ]
    }
   ],
   "source": [
    "run(train_df, \"No Oversample Minority\", oversample_minority=False)"
   ]
  }
 ],
 "metadata": {
  "kernelspec": {
   "display_name": ".venv",
   "language": "python",
   "name": "python3"
  },
  "language_info": {
   "codemirror_mode": {
    "name": "ipython",
    "version": 3
   },
   "file_extension": ".py",
   "mimetype": "text/x-python",
   "name": "python",
   "nbconvert_exporter": "python",
   "pygments_lexer": "ipython3",
   "version": "3.12.4"
  }
 },
 "nbformat": 4,
 "nbformat_minor": 2
}
