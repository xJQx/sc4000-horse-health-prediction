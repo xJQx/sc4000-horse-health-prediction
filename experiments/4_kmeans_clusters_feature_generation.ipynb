{
 "cells": [
  {
   "cell_type": "markdown",
   "metadata": {},
   "source": [
    "# Code for testing using KMeans clusters as a new feature (Feature generation)\n"
   ]
  },
  {
   "cell_type": "markdown",
   "metadata": {},
   "source": [
    "## Auth"
   ]
  },
  {
   "cell_type": "code",
   "execution_count": 1,
   "metadata": {},
   "outputs": [],
   "source": [
    "from dotenv import load_dotenv\n",
    "\n",
    "load_dotenv()\n",
    "\n",
    "from kaggle.api.kaggle_api_extended import KaggleApi\n",
    "\n",
    "api = KaggleApi()\n",
    "api.authenticate()"
   ]
  },
  {
   "cell_type": "markdown",
   "metadata": {},
   "source": [
    "## Download Data"
   ]
  },
  {
   "cell_type": "code",
   "execution_count": 2,
   "metadata": {},
   "outputs": [],
   "source": [
    "# !kaggle competitions download -c playground-series-s3e22\n",
    "# !unzip -o playground-series-s3e22.zip\n",
    "# !kaggle datasets download yasserh/horse-survival-dataset\n",
    "# !unzip -o horse-survival-dataset.zip\n",
    "# !rm -rf playground-series-s3e22.zip horse-survival-dataset.zip"
   ]
  },
  {
   "cell_type": "markdown",
   "metadata": {},
   "source": [
    "## Globals"
   ]
  },
  {
   "cell_type": "code",
   "execution_count": 3,
   "metadata": {},
   "outputs": [],
   "source": [
    "_TRAIN_FILE = \"train.csv\"\n",
    "_TEST_FILE = \"test.csv\"\n",
    "_ORIGINAL_FILE = \"horse.csv\"\n",
    "_SAMPLE_SUBMISSION_FILE = \"sample_submission.csv\"\n",
    "\n",
    "_SEED = 42"
   ]
  },
  {
   "cell_type": "markdown",
   "metadata": {},
   "source": [
    "## Clusterers"
   ]
  },
  {
   "cell_type": "code",
   "execution_count": 4,
   "metadata": {},
   "outputs": [],
   "source": [
    "class BaseClusterer:\n",
    "  X_columns = None\n",
    "  n_clusters = None\n",
    "  \n",
    "  def __init__(self):\n",
    "    pass\n",
    "\n",
    "  def fit(self, X_train):\n",
    "    raise NotImplementedError()\n",
    "\n",
    "  def get_cluster_numbers(self, X):\n",
    "    raise NotImplementedError()"
   ]
  },
  {
   "cell_type": "code",
   "execution_count": 5,
   "metadata": {},
   "outputs": [],
   "source": [
    "import hdbscan\n",
    "\n",
    "class HDBSCANClusterer(BaseClusterer):\n",
    "  def __init__(self):\n",
    "    self.hdbscan = None\n",
    "    self.X_columns = None\n",
    "\n",
    "  def fit(self, X_train):\n",
    "    # Initialize X_columns\n",
    "    self.X_columns = X_train.columns\n",
    "    \n",
    "    # Initialize the KNN model\n",
    "    self.hdbscan = hdbscan.HDBSCAN(\n",
    "      cluster_selection_method='leaf', \n",
    "      min_cluster_size=10,\n",
    "      prediction_data=True\n",
    "    )\n",
    "\n",
    "    # Train the KNN model\n",
    "    self.hdbscan.fit(X_train)\n",
    "\n",
    "    # Update number of clusters\n",
    "    self.n_clusters = self.hdbscan.labels_.max() + 1\n",
    "\n",
    "  def get_cluster_numbers(self, X):\n",
    "    if not self.hdbscan:\n",
    "      raise Exception(\"HDBSCANClusterer not initialised!\")\n",
    "    \n",
    "    cluster_numbers = hdbscan.approximate_predict(self.hdbscan, X)[0]\n",
    "    return cluster_numbers"
   ]
  },
  {
   "cell_type": "code",
   "execution_count": 6,
   "metadata": {},
   "outputs": [],
   "source": [
    "from sklearn.cluster import KMeans\n",
    "\n",
    "class KMeansClusterer(BaseClusterer):\n",
    "  def __init__(self, n_clusters=8):\n",
    "    self.kmeans = None\n",
    "    self.X_columns = None\n",
    "    self.n_clusters = n_clusters\n",
    "\n",
    "  def fit(self, X_train):\n",
    "    # Initialize X_columns\n",
    "    self.X_columns = X_train.columns\n",
    "    \n",
    "    # Initialize the KNN model\n",
    "    self.kmeans = KMeans(n_clusters=self.n_clusters, random_state=_SEED)\n",
    "\n",
    "    # Train the KNN model\n",
    "    self.kmeans.fit(X_train)\n",
    "\n",
    "  def get_cluster_numbers(self, X):\n",
    "    if not self.kmeans:\n",
    "      raise Exception(\"KMeansClusterer not initialised!\")\n",
    "    \n",
    "    cluster_numbers = self.kmeans.predict(X)\n",
    "    return cluster_numbers"
   ]
  },
  {
   "cell_type": "markdown",
   "metadata": {},
   "source": [
    "## Data Preprocessing"
   ]
  },
  {
   "cell_type": "code",
   "execution_count": 7,
   "metadata": {},
   "outputs": [],
   "source": [
    "import pandas as pd\n",
    "from imblearn.over_sampling import SMOTE\n",
    "\n",
    "\n",
    "def preprocess_data(df, clusterer:BaseClusterer=None, train=True):\n",
    "    # Separate features and target\n",
    "    if train:\n",
    "        cols_to_drop = [\"outcome\", \"id\"]\n",
    "    else:\n",
    "        cols_to_drop = [\"id\"]\n",
    "\n",
    "    # Simple handling of NA values: drop rows with missing values\n",
    "    if train:\n",
    "        df = df.dropna()\n",
    "\n",
    "    X = df.drop(columns=cols_to_drop)\n",
    "\n",
    "    if \"outcome\" in df.columns:\n",
    "        y = df[\"outcome\"]\n",
    "    else:\n",
    "        y = None\n",
    "    \n",
    "    # One hot encoding\n",
    "    X = pd.get_dummies(X)\n",
    "\n",
    "    if not train:\n",
    "        # Reindex test columns to include all categorical features encoded during training\n",
    "        X = X.reindex(columns=clusterer.X_columns, fill_value=0)\n",
    "\n",
    "    # Only Use Important Features\n",
    "    selected_features = [\n",
    "        'rectal_temp', 'pulse', 'respiratory_rate', 'nasogastric_reflux_ph',\n",
    "        'packed_cell_volume', 'total_protein', 'abdomo_protein', 'lesion_1',\n",
    "        'surgery_no', 'surgery_yes', 'temp_of_extremities_cool',\n",
    "        'peripheral_pulse_reduced', 'capillary_refill_time_more_3_sec',\n",
    "        'pain_depressed', 'pain_mild_pain', 'pain_severe_pain', 'peristalsis_absent',\n",
    "        'abdominal_distention_moderate', 'nasogastric_reflux_more_1_liter',\n",
    "        'rectal_exam_feces_absent', 'abdomen_distend_large',\n",
    "        'abdomo_appearance_serosanguious', 'surgical_lesion_no',\n",
    "        'surgical_lesion_yes', 'cp_data_no', 'mucous_membrane_normal_pink',\n",
    "        'abdomo_appearance_cloudy', 'capillary_refill_time_less_3_sec',\n",
    "        'peripheral_pulse_normal', 'nasogastric_tube_slight',\n",
    "        'mucous_membrane_pale_pink', 'pain_extreme_pain',\n",
    "        'mucous_membrane_pale_cyanotic', 'abdomen_distend_small', 'cp_data_yes',\n",
    "        'abdominal_distention_slight', 'temp_of_extremities_normal',\n",
    "        'mucous_membrane_bright_red', 'abdominal_distention_severe',\n",
    "        'abdomo_appearance_clear', 'rectal_exam_feces_decreased',\n",
    "        'peristalsis_hypomotile', 'age_young', 'nasogastric_reflux_less_1_liter',\n",
    "        'rectal_exam_feces_normal', 'temp_of_extremities_cold', 'abdomen_firm',\n",
    "        'pain_alert', 'nasogastric_tube_significant',\n",
    "        'mucous_membrane_dark_cyanotic', 'peristalsis_normal', 'abdomen_normal',\n",
    "        'mucous_membrane_bright_pink', 'age_adult', 'peripheral_pulse_absent',\n",
    "        'rectal_exam_feces_increased'\n",
    "    ]\n",
    "    X = X[selected_features]\n",
    "\n",
    "    # SMOTE Oversampling of minority classes (During training stage)\n",
    "    if train:\n",
    "        smote = SMOTE(random_state=_SEED)\n",
    "        X, y = smote.fit_resample(X, y)\n",
    "\n",
    "    # Generate Cluster Numbers\n",
    "    if clusterer:\n",
    "        if train:\n",
    "            clusterer.fit(X)\n",
    "        cluster_numbers = clusterer.get_cluster_numbers(X)\n",
    "        X[\"cluster_number\"] = cluster_numbers\n",
    "\n",
    "    return X, y\n",
    "\n"
   ]
  },
  {
   "cell_type": "markdown",
   "metadata": {},
   "source": [
    "## Experiment"
   ]
  },
  {
   "cell_type": "code",
   "execution_count": 8,
   "metadata": {},
   "outputs": [],
   "source": [
    "import pandas as pd\n",
    "\n",
    "\n",
    "train_df = pd.read_csv(_TRAIN_FILE)\n",
    "test_df = pd.read_csv(_TEST_FILE)\n",
    "original_df = pd.read_csv(_ORIGINAL_FILE)"
   ]
  },
  {
   "cell_type": "code",
   "execution_count": 9,
   "metadata": {},
   "outputs": [],
   "source": [
    "from sklearn.ensemble import RandomForestClassifier\n",
    "from sklearn.model_selection import KFold, cross_val_score\n",
    "\n",
    "\n",
    "def run(df: pd.DataFrame, experiment_name: str, clusterer:BaseClusterer=None):\n",
    "    print(f\"========== {experiment_name} ==========\")\n",
    "\n",
    "    X, y = preprocess_data(df, clusterer)\n",
    "\n",
    "    forest = RandomForestClassifier(random_state=_SEED)\n",
    "\n",
    "    k_folds = KFold(n_splits=20)\n",
    "\n",
    "    scores = cross_val_score(forest, X, y, cv=k_folds, scoring=\"f1_micro\")\n",
    "    f1_score_micro_avg = scores.mean()\n",
    "\n",
    "    print(\"F1 Score (Micro-Averaged):\", f1_score_micro_avg)\n",
    "\n",
    "    return f1_score_micro_avg"
   ]
  },
  {
   "cell_type": "code",
   "execution_count": 10,
   "metadata": {},
   "outputs": [],
   "source": [
    "# To store experiment results\n",
    "result_f1_scores = []\n",
    "result_clusterers = []\n",
    "result_n_clusters = []"
   ]
  },
  {
   "cell_type": "code",
   "execution_count": 11,
   "metadata": {},
   "outputs": [
    {
     "name": "stdout",
     "output_type": "stream",
     "text": [
      "========== Without KMeans Clusters (0 clusters) ==========\n",
      "F1 Score (Micro-Averaged): 0.8090895341802783\n"
     ]
    }
   ],
   "source": [
    "#############################################\n",
    "############### No Clustering ###############\n",
    "#############################################\n",
    "\n",
    "base_f1_score_micro_avg = run(pd.concat((train_df, original_df), axis=0), \"Without KMeans Clusters (0 clusters)\")\n",
    "\n",
    "# Save results to array\n",
    "result_f1_scores.append(base_f1_score_micro_avg)\n",
    "result_clusterers.append(\"-\")\n",
    "result_n_clusters.append(0)"
   ]
  },
  {
   "cell_type": "code",
   "execution_count": 12,
   "metadata": {},
   "outputs": [
    {
     "name": "stdout",
     "output_type": "stream",
     "text": [
      "========== With HDBSCAN Clusters ==========\n",
      "F1 Score (Micro-Averaged): 0.8177858439201451\n"
     ]
    }
   ],
   "source": [
    "#################################################\n",
    "############### HDBSCAN Custering ###############\n",
    "#################################################\n",
    "\n",
    "hdbscan_clusterer = HDBSCANClusterer()\n",
    "\n",
    "f1_score_micro_avg = run(\n",
    "  pd.concat((train_df, original_df), axis=0), \n",
    "  f\"With HDBSCAN Clusters\", \n",
    "  clusterer=hdbscan_clusterer\n",
    ")\n",
    "\n",
    "# Save results to array\n",
    "result_f1_scores.append(f1_score_micro_avg)\n",
    "result_clusterers.append(\"HDBSCAN\")\n",
    "result_n_clusters.append(hdbscan_clusterer.n_clusters)"
   ]
  },
  {
   "cell_type": "code",
   "execution_count": 13,
   "metadata": {},
   "outputs": [
    {
     "name": "stdout",
     "output_type": "stream",
     "text": [
      "========== With KMeans Clusters (3 clusters) ==========\n",
      "F1 Score (Micro-Averaged): 0.8142468239564428\n",
      "========== With KMeans Clusters (6 clusters) ==========\n",
      "F1 Score (Micro-Averaged): 0.8073805202661827\n",
      "========== With KMeans Clusters (8 clusters) ==========\n",
      "F1 Score (Micro-Averaged): 0.813475499092559\n",
      "========== With KMeans Clusters (12 clusters) ==========\n",
      "F1 Score (Micro-Averaged): 0.8091349062310951\n",
      "========== With KMeans Clusters (16 clusters) ==========\n",
      "F1 Score (Micro-Averaged): 0.8091802782819117\n",
      "========== With KMeans Clusters (24 clusters) ==========\n",
      "F1 Score (Micro-Averaged): 0.8081820931639443\n"
     ]
    }
   ],
   "source": [
    "#################################################\n",
    "############### KMeans Clustering ###############\n",
    "#################################################\n",
    "\n",
    "N_CLUSTERS = [\n",
    "  3, 6, 8, 12, 16, 24\n",
    "]\n",
    "\n",
    "for n_clusters in N_CLUSTERS:\n",
    "  f1_score_micro_avg = run(\n",
    "    pd.concat((train_df, original_df), axis=0), \n",
    "    f\"With KMeans Clusters ({n_clusters} clusters)\", \n",
    "    clusterer=KMeansClusterer(n_clusters=n_clusters)\n",
    "  )\n",
    "\n",
    "  # Save results to array\n",
    "  result_f1_scores.append(f1_score_micro_avg)\n",
    "  result_clusterers.append(\"KMeans\")\n",
    "  result_n_clusters.append(n_clusters)"
   ]
  },
  {
   "cell_type": "code",
   "execution_count": 14,
   "metadata": {},
   "outputs": [
    {
     "data": {
      "text/html": [
       "<div>\n",
       "<style scoped>\n",
       "    .dataframe tbody tr th:only-of-type {\n",
       "        vertical-align: middle;\n",
       "    }\n",
       "\n",
       "    .dataframe tbody tr th {\n",
       "        vertical-align: top;\n",
       "    }\n",
       "\n",
       "    .dataframe thead th {\n",
       "        text-align: right;\n",
       "    }\n",
       "</style>\n",
       "<table border=\"1\" class=\"dataframe\">\n",
       "  <thead>\n",
       "    <tr style=\"text-align: right;\">\n",
       "      <th></th>\n",
       "      <th>clusterer</th>\n",
       "      <th>n_clusters</th>\n",
       "      <th>f1_score_micro_avg</th>\n",
       "    </tr>\n",
       "  </thead>\n",
       "  <tbody>\n",
       "    <tr>\n",
       "      <th>0</th>\n",
       "      <td>HDBSCAN</td>\n",
       "      <td>21</td>\n",
       "      <td>0.817786</td>\n",
       "    </tr>\n",
       "    <tr>\n",
       "      <th>1</th>\n",
       "      <td>KMeans</td>\n",
       "      <td>3</td>\n",
       "      <td>0.814247</td>\n",
       "    </tr>\n",
       "    <tr>\n",
       "      <th>2</th>\n",
       "      <td>KMeans</td>\n",
       "      <td>8</td>\n",
       "      <td>0.813475</td>\n",
       "    </tr>\n",
       "    <tr>\n",
       "      <th>3</th>\n",
       "      <td>KMeans</td>\n",
       "      <td>16</td>\n",
       "      <td>0.809180</td>\n",
       "    </tr>\n",
       "    <tr>\n",
       "      <th>4</th>\n",
       "      <td>KMeans</td>\n",
       "      <td>12</td>\n",
       "      <td>0.809135</td>\n",
       "    </tr>\n",
       "    <tr>\n",
       "      <th>5</th>\n",
       "      <td>-</td>\n",
       "      <td>0</td>\n",
       "      <td>0.809090</td>\n",
       "    </tr>\n",
       "    <tr>\n",
       "      <th>6</th>\n",
       "      <td>KMeans</td>\n",
       "      <td>24</td>\n",
       "      <td>0.808182</td>\n",
       "    </tr>\n",
       "    <tr>\n",
       "      <th>7</th>\n",
       "      <td>KMeans</td>\n",
       "      <td>6</td>\n",
       "      <td>0.807381</td>\n",
       "    </tr>\n",
       "  </tbody>\n",
       "</table>\n",
       "</div>"
      ],
      "text/plain": [
       "  clusterer  n_clusters  f1_score_micro_avg\n",
       "0   HDBSCAN          21            0.817786\n",
       "1    KMeans           3            0.814247\n",
       "2    KMeans           8            0.813475\n",
       "3    KMeans          16            0.809180\n",
       "4    KMeans          12            0.809135\n",
       "5         -           0            0.809090\n",
       "6    KMeans          24            0.808182\n",
       "7    KMeans           6            0.807381"
      ]
     },
     "execution_count": 14,
     "metadata": {},
     "output_type": "execute_result"
    }
   ],
   "source": [
    "pd.DataFrame({\n",
    "  \"clusterer\": result_clusterers,\n",
    "  \"n_clusters\": result_n_clusters,\n",
    "  \"f1_score_micro_avg\": result_f1_scores\n",
    "}).sort_values(by=\"f1_score_micro_avg\", ascending=False).reset_index(drop=True)"
   ]
  },
  {
   "cell_type": "markdown",
   "metadata": {},
   "source": [
    "# Submit"
   ]
  },
  {
   "cell_type": "code",
   "execution_count": 15,
   "metadata": {},
   "outputs": [],
   "source": [
    "clusterer = HDBSCANClusterer()\n",
    "\n",
    "X, y = preprocess_data(pd.concat((train_df, original_df), axis=0), clusterer=clusterer)\n",
    "forest = RandomForestClassifier(random_state=_SEED)\n",
    "forest.fit(X, y)\n",
    "\n",
    "X_submit, _ = preprocess_data(test_df, clusterer=clusterer, train=False)\n",
    "X_submit = X_submit.reindex(columns=X.columns, fill_value=0)\n",
    "\n",
    "y_pred_submit = forest.predict(X_submit)"
   ]
  },
  {
   "cell_type": "code",
   "execution_count": 16,
   "metadata": {},
   "outputs": [],
   "source": [
    "save_df = pd.DataFrame({\"id\": test_df[\"id\"], \"outcome\": y_pred_submit})\n",
    "save_df.to_csv(\"submission.csv\", index=False, header=True)"
   ]
  },
  {
   "cell_type": "code",
   "execution_count": 17,
   "metadata": {},
   "outputs": [],
   "source": [
    "# !kaggle competitions submit -c playground-series-s3e22 -f submission.csv -m \"\""
   ]
  }
 ],
 "metadata": {
  "kernelspec": {
   "display_name": ".venv",
   "language": "python",
   "name": "python3"
  },
  "language_info": {
   "codemirror_mode": {
    "name": "ipython",
    "version": 3
   },
   "file_extension": ".py",
   "mimetype": "text/x-python",
   "name": "python",
   "nbconvert_exporter": "python",
   "pygments_lexer": "ipython3",
   "version": "3.11.9"
  }
 },
 "nbformat": 4,
 "nbformat_minor": 2
}
