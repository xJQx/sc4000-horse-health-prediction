{
 "cells": [
  {
   "cell_type": "markdown",
   "metadata": {},
   "source": [
    "# Code for testing whether over sampling minority class with SMOTE helps"
   ]
  },
  {
   "cell_type": "markdown",
   "metadata": {},
   "source": [
    "## Auth"
   ]
  },
  {
   "cell_type": "code",
   "execution_count": 1,
   "metadata": {},
   "outputs": [],
   "source": [
    "from dotenv import load_dotenv\n",
    "\n",
    "load_dotenv()\n",
    "\n",
    "from kaggle.api.kaggle_api_extended import KaggleApi\n",
    "\n",
    "api = KaggleApi()\n",
    "api.authenticate()"
   ]
  },
  {
   "cell_type": "markdown",
   "metadata": {},
   "source": [
    "## Download Data"
   ]
  },
  {
   "cell_type": "code",
   "execution_count": null,
   "metadata": {},
   "outputs": [],
   "source": [
    "!kaggle competitions download -c playground-series-s3e22\n",
    "!unzip -o playground-series-s3e22.zip\n",
    "!kaggle datasets download yasserh/horse-survival-dataset\n",
    "!unzip -o horse-survival-dataset.zip\n",
    "!rm -rf playground-series-s3e22.zip horse-survival-dataset.zip"
   ]
  },
  {
   "cell_type": "markdown",
   "metadata": {},
   "source": [
    "## Globals"
   ]
  },
  {
   "cell_type": "code",
   "execution_count": 4,
   "metadata": {},
   "outputs": [],
   "source": [
    "_TRAIN_FILE = \"train.csv\"\n",
    "_TEST_FILE = \"test.csv\"\n",
    "_ORIGINAL_FILE = \"horse.csv\"\n",
    "_SAMPLE_SUBMISSION_FILE = \"sample_submission.csv\"\n",
    "\n",
    "_TOP_FEATURES = [\n",
    "    \"rectal_temp\",\n",
    "    \"pulse\",\n",
    "    \"respiratory_rate\",\n",
    "    \"nasogastric_reflux_ph\",\n",
    "    \"packed_cell_volume\",\n",
    "    \"total_protein\",\n",
    "    \"abdomo_protein\",\n",
    "    \"lesion_1\",\n",
    "    \"surgery_no\",\n",
    "    \"surgery_yes\",\n",
    "    \"temp_of_extremities_cool\",\n",
    "    \"peripheral_pulse_reduced\",\n",
    "    \"capillary_refill_time_more_3_sec\",\n",
    "    \"pain_depressed\",\n",
    "    \"pain_mild_pain\",\n",
    "    \"pain_severe_pain\",\n",
    "    \"peristalsis_absent\",\n",
    "    \"abdominal_distention_moderate\",\n",
    "    \"nasogastric_reflux_more_1_liter\",\n",
    "    \"rectal_exam_feces_absent\",\n",
    "    \"abdomen_distend_large\",\n",
    "    \"abdomo_appearance_serosanguious\",\n",
    "    \"surgical_lesion_no\",\n",
    "    \"surgical_lesion_yes\",\n",
    "    \"cp_data_no\",\n",
    "    \"mucous_membrane_normal_pink\",\n",
    "    \"abdomo_appearance_cloudy\",\n",
    "    \"capillary_refill_time_less_3_sec\",\n",
    "    \"peripheral_pulse_normal\",\n",
    "    \"nasogastric_tube_slight\",\n",
    "    \"mucous_membrane_pale_pink\",\n",
    "    \"pain_extreme_pain\",\n",
    "    \"mucous_membrane_pale_cyanotic\",\n",
    "    \"abdomen_distend_small\",\n",
    "    \"cp_data_yes\",\n",
    "    \"abdominal_distention_slight\",\n",
    "    \"temp_of_extremities_normal\",\n",
    "    \"mucous_membrane_bright_red\",\n",
    "    \"abdominal_distention_severe\",\n",
    "    \"abdomo_appearance_clear\",\n",
    "    \"rectal_exam_feces_decreased\",\n",
    "    \"peristalsis_hypomotile\",\n",
    "    \"age_young\",\n",
    "    \"nasogastric_reflux_less_1_liter\",\n",
    "    \"rectal_exam_feces_normal\",\n",
    "    \"temp_of_extremities_cold\",\n",
    "    \"abdomen_firm\",\n",
    "    \"pain_alert\",\n",
    "    \"nasogastric_tube_significant\",\n",
    "    \"mucous_membrane_dark_cyanotic\",\n",
    "    \"peristalsis_normal\",\n",
    "    \"abdomen_normal\",\n",
    "    \"mucous_membrane_bright_pink\",\n",
    "    \"age_adult\",\n",
    "    \"peripheral_pulse_absent\",\n",
    "    \"rectal_exam_feces_increased\",\n",
    "]\n",
    "\n",
    "_TARGET = \"outcome\"\n",
    "\n",
    "_SEED = 42"
   ]
  },
  {
   "cell_type": "markdown",
   "metadata": {},
   "source": [
    "## Data Preprocessing"
   ]
  },
  {
   "cell_type": "code",
   "execution_count": 5,
   "metadata": {},
   "outputs": [],
   "source": [
    "from sklearn.cluster import KMeans\n",
    "\n",
    "\n",
    "class KMeansClusterer:\n",
    "    def __init__(self):\n",
    "        self.kmeans = None\n",
    "        self.X_columns = None\n",
    "\n",
    "    def fit(self, X_train, y_train, n_clusters=8):\n",
    "        # Initialize X_columns\n",
    "        self.X_columns = X_train.columns\n",
    "\n",
    "        # Initialize the KNN model\n",
    "        self.kmeans = KMeans(n_clusters=n_clusters, random_state=_SEED)\n",
    "\n",
    "        # Train the KNN model\n",
    "        self.kmeans.fit(X_train, y_train)\n",
    "\n",
    "    def get_cluster_numbers(self, X):\n",
    "        if not self.kmeans:\n",
    "            raise Exception(\"KMeansClusterer not initialised!\")\n",
    "\n",
    "        knn_cluster_numbers = self.kmeans.predict(X)\n",
    "        return knn_cluster_numbers"
   ]
  },
  {
   "cell_type": "code",
   "execution_count": 6,
   "metadata": {},
   "outputs": [],
   "source": [
    "from sklearn.impute import SimpleImputer, KNNImputer\n",
    "import pandas as pd\n",
    "\n",
    "\n",
    "def impute(\n",
    "    df: pd.DataFrame,\n",
    "    strategy: str = \"mean\",\n",
    "    fill_value=None,\n",
    "    n_neighbors=5,\n",
    "    columns=None,\n",
    ") -> pd.DataFrame:\n",
    "    \"\"\"\n",
    "    Generalized function to handle various imputation strategies.\n",
    "\n",
    "    Parameters:\n",
    "        df (pd.DataFrame): Input DataFrame.\n",
    "        strategy (str): Imputation strategy - \"mean\", \"median\", \"most_frequent\", \"constant\", or \"knn\".\n",
    "        fill_value: Value to use for constant imputation (if strategy=\"constant\").\n",
    "        n_neighbors (int): Number of neighbors to use for KNN Imputation (if strategy=\"knn\").\n",
    "        columns (list, optional): Specific columns to impute. If None, applies to all columns.\n",
    "\n",
    "    Returns:\n",
    "        pd.DataFrame: DataFrame with imputed values.\n",
    "    \"\"\"\n",
    "    if strategy == \"knn\":\n",
    "        imputer = KNNImputer(n_neighbors=n_neighbors)\n",
    "    elif strategy == \"constant\":\n",
    "        imputer = SimpleImputer(strategy=\"constant\", fill_value=fill_value)\n",
    "    else:\n",
    "        imputer = SimpleImputer(strategy=strategy)\n",
    "\n",
    "    # Select columns for imputation\n",
    "    target_columns = columns or df.columns\n",
    "    df[target_columns] = pd.DataFrame(\n",
    "        imputer.fit_transform(df[target_columns]),\n",
    "        columns=target_columns,\n",
    "        index=df.index,\n",
    "    )\n",
    "    return df\n",
    "\n",
    "\n",
    "# Specific functions for convenience\n",
    "def mean_imputation(df: pd.DataFrame, columns=None) -> pd.DataFrame:\n",
    "    return impute(df, strategy=\"mean\", columns=columns)\n",
    "\n",
    "\n",
    "def median_imputation(df: pd.DataFrame, columns=None) -> pd.DataFrame:\n",
    "    return impute(df, strategy=\"median\", columns=columns)\n",
    "\n",
    "\n",
    "def most_frequent_imputation(df: pd.DataFrame, columns=None) -> pd.DataFrame:\n",
    "    return impute(df, strategy=\"most_frequent\", columns=columns)\n",
    "\n",
    "\n",
    "def constant_imputation(df: pd.DataFrame, fill_value=0, columns=None) -> pd.DataFrame:\n",
    "    return impute(df, strategy=\"constant\", fill_value=fill_value, columns=columns)\n",
    "\n",
    "\n",
    "def knn_imputation(df: pd.DataFrame, n_neighbors=5, columns=None) -> pd.DataFrame:\n",
    "    return impute(df, strategy=\"knn\", n_neighbors=n_neighbors, columns=columns)"
   ]
  },
  {
   "cell_type": "code",
   "execution_count": 121,
   "metadata": {},
   "outputs": [],
   "source": [
    "import pandas as pd\n",
    "from imblearn.over_sampling import SMOTE\n",
    "from sklearn.preprocessing import StandardScaler\n",
    "\n",
    "\n",
    "def preprocess_data(\n",
    "    df: pd.DataFrame,\n",
    "    kmeans_clusterer: KMeansClusterer,\n",
    "    train=True,\n",
    "    standard_scaler: StandardScaler = None,\n",
    "):\n",
    "    # Separate features and target\n",
    "    if train:\n",
    "        cols_to_drop = [\"outcome\", \"id\"]\n",
    "    else:\n",
    "        cols_to_drop = [\"id\"]\n",
    "\n",
    "    X = df.drop(columns=cols_to_drop)\n",
    "\n",
    "    if \"outcome\" in df.columns:\n",
    "        y = df[\"outcome\"]\n",
    "    else:\n",
    "        y = None\n",
    "\n",
    "    # One hot encoding\n",
    "    X = pd.get_dummies(X, drop_first=False)\n",
    "\n",
    "    # Only use top features\n",
    "    X = X[_TOP_FEATURES]\n",
    "\n",
    "    # Imputation for NA values\n",
    "    X = mean_imputation(X)\n",
    "\n",
    "    # Oversampling minority class\n",
    "    if train:\n",
    "        smote = SMOTE(random_state=_SEED)\n",
    "        X, y = smote.fit_resample(X, y)\n",
    "\n",
    "    # Generate new features\n",
    "    if train:\n",
    "        kmeans_clusterer.fit(X, y, n_clusters=6) # best is 6 for this combination\n",
    "\n",
    "    cluster_numbers = kmeans_clusterer.get_cluster_numbers(X)\n",
    "    X[\"kmeans_cluster_numbers\"] = cluster_numbers\n",
    "\n",
    "    # Format for test\n",
    "    # if not train:\n",
    "    #     # Reindex test columns to include all categorical features encoded during training\n",
    "    #     X = X.reindex(columns=kmeans_clusterer.X_columns, fill_value=0)\n",
    "    \n",
    "    if standard_scaler:\n",
    "        if train:\n",
    "            standard_scaler.fit(X)\n",
    "            \n",
    "        X_scaled = standard_scaler.transform(X)\n",
    "        X = pd.DataFrame(X_scaled, columns=X.columns, index=X.index)\n",
    "\n",
    "    return X, y"
   ]
  },
  {
   "cell_type": "markdown",
   "metadata": {},
   "source": [
    "## Experiment"
   ]
  },
  {
   "cell_type": "code",
   "execution_count": 108,
   "metadata": {},
   "outputs": [],
   "source": [
    "import pandas as pd\n",
    "\n",
    "\n",
    "train_df = pd.read_csv(_TRAIN_FILE)\n",
    "test_df = pd.read_csv(_TEST_FILE)\n",
    "original_df = pd.read_csv(_ORIGINAL_FILE)\n",
    "\n",
    "train_df = pd.concat((train_df, original_df), axis=0)"
   ]
  },
  {
   "cell_type": "code",
   "execution_count": 109,
   "metadata": {},
   "outputs": [],
   "source": [
    "from sklearn.ensemble import RandomForestClassifier\n",
    "from sklearn.model_selection import KFold, cross_val_score\n",
    "\n",
    "\n",
    "def run(\n",
    "    df: pd.DataFrame,\n",
    "    experiment_name: str,\n",
    "    kmeans_clusterer: KMeansClusterer,\n",
    "    standard_scaler: StandardScaler = None,\n",
    "):\n",
    "    print(f\"========== {experiment_name} ==========\")\n",
    "\n",
    "    X, y = preprocess_data(\n",
    "        df,\n",
    "        kmeans_clusterer=kmeans_clusterer,\n",
    "        standard_scaler=standard_scaler,\n",
    "    )\n",
    "\n",
    "    forest = RandomForestClassifier(random_state=_SEED)\n",
    "\n",
    "    k_folds = KFold(n_splits=20)\n",
    "\n",
    "    scores = cross_val_score(forest, X, y, cv=k_folds, scoring=\"f1_micro\")\n",
    "\n",
    "    print(\"F1 Score (Micro-Averaged):\", scores.mean())\n",
    "\n",
    "    return scores.mean()"
   ]
  },
  {
   "cell_type": "code",
   "execution_count": 110,
   "metadata": {},
   "outputs": [],
   "source": [
    "results = []"
   ]
  },
  {
   "cell_type": "code",
   "execution_count": 113,
   "metadata": {},
   "outputs": [
    {
     "name": "stdout",
     "output_type": "stream",
     "text": [
      "========== Standard Scaler ==========\n",
      "F1 Score (Micro-Averaged): 0.8277931415929203\n"
     ]
    }
   ],
   "source": [
    "from sklearn.preprocessing import StandardScaler\n",
    "\n",
    "standard_scaler = StandardScaler()\n",
    "kmeans_clusterer = KMeansClusterer()\n",
    "\n",
    "score = run(\n",
    "    train_df,\n",
    "    \"Standard Scaler\",\n",
    "    standard_scaler=standard_scaler,\n",
    "    kmeans_clusterer=kmeans_clusterer,\n",
    ")\n",
    "\n",
    "results.append({\"method\": \"Standard Scaler\", \"f1 score (micro-averaged)\": score})"
   ]
  },
  {
   "cell_type": "code",
   "execution_count": 114,
   "metadata": {},
   "outputs": [
    {
     "name": "stdout",
     "output_type": "stream",
     "text": [
      "========== No Standard Scaler ==========\n",
      "F1 Score (Micro-Averaged): 0.827350663716814\n"
     ]
    }
   ],
   "source": [
    "from sklearn.preprocessing import StandardScaler\n",
    "\n",
    "standard_scaler = StandardScaler()\n",
    "kmeans_clusterer = KMeansClusterer()\n",
    "\n",
    "score = run(\n",
    "    train_df,\n",
    "    \"No Standard Scaler\",\n",
    "    standard_scaler=None,\n",
    "    kmeans_clusterer=kmeans_clusterer,\n",
    ")\n",
    "results.append({\"method\": \"No Standard Scaler\", \"f1 score (micro-averaged)\": score})"
   ]
  },
  {
   "cell_type": "code",
   "execution_count": 115,
   "metadata": {},
   "outputs": [
    {
     "data": {
      "text/html": [
       "<div>\n",
       "<style scoped>\n",
       "    .dataframe tbody tr th:only-of-type {\n",
       "        vertical-align: middle;\n",
       "    }\n",
       "\n",
       "    .dataframe tbody tr th {\n",
       "        vertical-align: top;\n",
       "    }\n",
       "\n",
       "    .dataframe thead th {\n",
       "        text-align: right;\n",
       "    }\n",
       "</style>\n",
       "<table border=\"1\" class=\"dataframe\">\n",
       "  <thead>\n",
       "    <tr style=\"text-align: right;\">\n",
       "      <th></th>\n",
       "      <th>method</th>\n",
       "      <th>f1 score (micro-averaged)</th>\n",
       "    </tr>\n",
       "  </thead>\n",
       "  <tbody>\n",
       "    <tr>\n",
       "      <th>0</th>\n",
       "      <td>Standard Scaler</td>\n",
       "      <td>0.827793</td>\n",
       "    </tr>\n",
       "    <tr>\n",
       "      <th>1</th>\n",
       "      <td>No Standard Scaler</td>\n",
       "      <td>0.827351</td>\n",
       "    </tr>\n",
       "  </tbody>\n",
       "</table>\n",
       "</div>"
      ],
      "text/plain": [
       "               method  f1 score (micro-averaged)\n",
       "0     Standard Scaler                   0.827793\n",
       "1  No Standard Scaler                   0.827351"
      ]
     },
     "execution_count": 115,
     "metadata": {},
     "output_type": "execute_result"
    }
   ],
   "source": [
    "pd.DataFrame(results).sort_values(by=\"f1 score (micro-averaged)\", ascending=False)"
   ]
  },
  {
   "cell_type": "markdown",
   "metadata": {},
   "source": [
    "## Submit"
   ]
  },
  {
   "cell_type": "code",
   "execution_count": null,
   "metadata": {},
   "outputs": [],
   "source": [
    "import pandas as pd\n",
    "\n",
    "standard_scaler = StandardScaler()\n",
    "kmeans_clusterer = KMeansClusterer()\n",
    "\n",
    "\n",
    "X, y = preprocess_data(train_df, train=True, kmeans_clusterer=kmeans_clusterer, standard_scaler=standard_scaler)\n",
    "forest = RandomForestClassifier(random_state=_SEED)\n",
    "forest.fit(X, y)\n",
    "\n",
    "X_submit, _ = preprocess_data(\n",
    "    test_df,\n",
    "    train=False,\n",
    "    kmeans_clusterer=kmeans_clusterer,\n",
    "    standard_scaler=standard_scaler,\n",
    ")\n",
    "X_submit = X_submit.reindex(columns=X.columns, fill_value=0)\n",
    "\n",
    "y_pred_submit = forest.predict(X_submit)\n",
    "\n",
    "save_df = pd.DataFrame({\"id\": test_df[\"id\"], \"outcome\": y_pred_submit})\n",
    "save_df.to_csv(\"submission.csv\", index=False, header=True)"
   ]
  },
  {
   "cell_type": "code",
   "execution_count": null,
   "metadata": {},
   "outputs": [
    {
     "name": "stdout",
     "output_type": "stream",
     "text": [
      "100%|██████████████████████████████████████| 9.21k/9.21k [00:00<00:00, 11.6kB/s]\n",
      "Successfully submitted to Predict Health Outcomes of Horses"
     ]
    }
   ],
   "source": [
    "!kaggle competitions submit -c playground-series-s3e22 -f submission.csv -m \"top features + feature_scaling + k_cluster_feature + mean_imputation + smote + random forest + original data\""
   ]
  },
  {
   "cell_type": "code",
   "execution_count": null,
   "metadata": {},
   "outputs": [],
   "source": []
  }
 ],
 "metadata": {
  "kernelspec": {
   "display_name": ".venv",
   "language": "python",
   "name": "python3"
  },
  "language_info": {
   "codemirror_mode": {
    "name": "ipython",
    "version": 3
   },
   "file_extension": ".py",
   "mimetype": "text/x-python",
   "name": "python",
   "nbconvert_exporter": "python",
   "pygments_lexer": "ipython3",
   "version": "3.12.4"
  }
 },
 "nbformat": 4,
 "nbformat_minor": 2
}
